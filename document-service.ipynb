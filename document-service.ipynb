{
 "cells": [
  {
   "cell_type": "code",
   "execution_count": 1,
   "metadata": {},
   "outputs": [],
   "source": [
    "import os\n",
    "import logging\n",
    "\n",
    "from dotenv import load_dotenv, find_dotenv\n",
    "_ = load_dotenv(find_dotenv())"
   ]
  },
  {
   "cell_type": "code",
   "execution_count": 2,
   "metadata": {},
   "outputs": [],
   "source": [
    "from langchain_community.document_loaders import TextLoader, DirectoryLoader\n",
    "from langchain_community.embeddings import HuggingFaceEmbeddings\n",
    "from langchain_community.vectorstores import Chroma\n",
    "from langchain.text_splitter import RecursiveCharacterTextSplitter\n",
    "\n",
    "# ------------- Retrieval-Augmented Generation  ------------- #\n",
    "\n",
    "def get_docs():\n",
    "    \"\"\"\n",
    "    Loads each file into one document, like knowledge base\n",
    "    :return: docs\n",
    "    \"\"\"\n",
    "\n",
    "    loader = DirectoryLoader(\"docs/lyrics\", \"*.txt\", loader_cls=TextLoader)  # Reads custom data from local files\n",
    "\n",
    "    docs = loader.load()\n",
    "    return docs\n",
    "\n",
    "def split_text(docs):\n",
    "    \"\"\"\n",
    "    Get chunks from docs. Our loaded doc may be too long for most models, and even if it fits is can struggle to find relevant context. So we generate chunks\n",
    "    :param docs: docs to be split\n",
    "    :return: chunks\n",
    "    \"\"\"\n",
    "\n",
    "    text_splitter = RecursiveCharacterTextSplitter( # recommended splitter for generic text\n",
    "        chunk_size=2000,\n",
    "        chunk_overlap=200,\n",
    "        add_start_index=True\n",
    "    )\n",
    "    chunks = text_splitter.split_documents(docs)\n",
    "\n",
    "    return chunks\n",
    "\n",
    "def get_data_store(chunks):\n",
    "    \"\"\"\n",
    "    Store chunks into a db. ChromaDB uses vector embeddings as the key, creates a new DB from the documents\n",
    "    :param docs:\n",
    "    :param chunks:\n",
    "    :return: database\n",
    "    \"\"\"\n",
    "    embeddings = HuggingFaceEmbeddings( #  embedding=OpenAIEmbeddings() rate limit\n",
    "        model_name='sentence-transformers/all-MiniLM-L6-v2',\n",
    "        model_kwargs={'device': 'cpu'} # TODO gpu\n",
    "    )\n",
    "\n",
    "    db = Chroma.from_documents(\n",
    "        documents=chunks,\n",
    "        embedding=embeddings\n",
    "    )\n",
    "    return db"
   ]
  },
  {
   "cell_type": "code",
   "execution_count": 3,
   "metadata": {},
   "outputs": [
    {
     "name": "stderr",
     "output_type": "stream",
     "text": [
      "/tmp/ipykernel_40272/2029938850.py:44: LangChainDeprecationWarning: The class `HuggingFaceEmbeddings` was deprecated in LangChain 0.2.2 and will be removed in 1.0. An updated version of the class exists in the :class:`~langchain-huggingface package and should be used instead. To use it run `pip install -U :class:`~langchain-huggingface` and import as `from :class:`~langchain_huggingface import HuggingFaceEmbeddings``.\n",
      "  embeddings = HuggingFaceEmbeddings( #  embedding=OpenAIEmbeddings() rate limit\n",
      "/home/pauli/.cache/pypoetry/virtualenvs/image-lyrics-hleqkuGI-py3.10/lib/python3.10/site-packages/sentence_transformers/cross_encoder/CrossEncoder.py:13: TqdmWarning: IProgress not found. Please update jupyter and ipywidgets. See https://ipywidgets.readthedocs.io/en/stable/user_install.html\n",
      "  from tqdm.autonotebook import tqdm, trange\n",
      "/home/pauli/.cache/pypoetry/virtualenvs/image-lyrics-hleqkuGI-py3.10/lib/python3.10/site-packages/transformers/tokenization_utils_base.py:1617: FutureWarning: `clean_up_tokenization_spaces` was not set. It will be set to `True` by default. This behavior will be deprecated in transformers v4.45, and will be then set to `False` by default. For more details check this issue: https://github.com/huggingface/transformers/issues/31884\n",
      "  warnings.warn(\n"
     ]
    }
   ],
   "source": [
    "import os, sys, warnings\n",
    "from dotenv import load_dotenv, find_dotenv\n",
    "_ = load_dotenv(find_dotenv())\n",
    "\n",
    "docs = get_docs()           # Load custom files\n",
    "chunks = split_text(docs)   # Split into chunks\n",
    "db = get_data_store(chunks) # Generate vectorstore"
   ]
  }
 ],
 "metadata": {
  "kernelspec": {
   "display_name": "image-lyrics-hleqkuGI-py3.10",
   "language": "python",
   "name": "python3"
  },
  "language_info": {
   "codemirror_mode": {
    "name": "ipython",
    "version": 3
   },
   "file_extension": ".py",
   "mimetype": "text/x-python",
   "name": "python",
   "nbconvert_exporter": "python",
   "pygments_lexer": "ipython3",
   "version": "3.10.12"
  }
 },
 "nbformat": 4,
 "nbformat_minor": 2
}
