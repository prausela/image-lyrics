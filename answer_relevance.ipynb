{
 "cells": [
  {
   "cell_type": "code",
   "execution_count": 1,
   "metadata": {},
   "outputs": [
    {
     "name": "stderr",
     "output_type": "stream",
     "text": [
      "/home/pauli/.cache/pypoetry/virtualenvs/image-lyrics-hleqkuGI-py3.10/lib/python3.10/site-packages/tqdm/auto.py:21: TqdmWarning: IProgress not found. Please update jupyter and ipywidgets. See https://ipywidgets.readthedocs.io/en/stable/user_install.html\n",
      "  from .autonotebook import tqdm as notebook_tqdm\n"
     ]
    }
   ],
   "source": [
    "from rag import get_docs, split_text, get_data_store, predict, postprocess_response"
   ]
  },
  {
   "cell_type": "code",
   "execution_count": 2,
   "metadata": {},
   "outputs": [],
   "source": [
    "config = {\n",
    "    \"llm\": {\n",
    "        \"max_new_tokens\": 512,\n",
    "        \"top_k\": 30,\n",
    "        \"temperature\": 0.2,\n",
    "        \"repetition_penalty\": 1.2\n",
    "    },\n",
    "    \"retriever\": {\n",
    "        \"search_type\": \"mmr\",\n",
    "        \"k\": 10\n",
    "    },\n",
    "    \"splitter\": {\n",
    "        \"chunk_size\": 250,\n",
    "        \"chunk_overlap\": 25\n",
    "    }\n",
    "}"
   ]
  },
  {
   "cell_type": "code",
   "execution_count": 3,
   "metadata": {},
   "outputs": [],
   "source": [
    "IMAGES = [\n",
    "    \"mt_fuji.jpg\",\n",
    "    \"holland.jpg\",\n",
    "    \"new_york.jpg\",\n",
    "    \"videoconference.jpg\"\n",
    "]"
   ]
  },
  {
   "cell_type": "code",
   "execution_count": 4,
   "metadata": {},
   "outputs": [],
   "source": [
    "docs = get_docs()"
   ]
  },
  {
   "cell_type": "code",
   "execution_count": 5,
   "metadata": {},
   "outputs": [
    {
     "name": "stderr",
     "output_type": "stream",
     "text": [
      "/home/pauli/Git/image-lyrics/rag.py:61: LangChainDeprecationWarning: The class `HuggingFaceEmbeddings` was deprecated in LangChain 0.2.2 and will be removed in 1.0. An updated version of the class exists in the langchain-huggingface package and should be used instead. To use it run `pip install -U langchain-huggingface` and import as `from langchain_huggingface import HuggingFaceEmbeddings`.\n",
      "  embeddings = HuggingFaceEmbeddings( #  embedding=OpenAIEmbeddings() rate limit\n",
      "/home/pauli/.cache/pypoetry/virtualenvs/image-lyrics-hleqkuGI-py3.10/lib/python3.10/site-packages/transformers/tokenization_utils_base.py:1617: FutureWarning: `clean_up_tokenization_spaces` was not set. It will be set to `True` by default. This behavior will be deprecated in transformers v4.45, and will be then set to `False` by default. For more details check this issue: https://github.com/huggingface/transformers/issues/31884\n",
      "  warnings.warn(\n"
     ]
    }
   ],
   "source": [
    "chunks = split_text(docs, config) \n",
    "db = get_data_store(chunks)"
   ]
  },
  {
   "cell_type": "code",
   "execution_count": 6,
   "metadata": {},
   "outputs": [
    {
     "name": "stderr",
     "output_type": "stream",
     "text": [
      "/home/pauli/.cache/pypoetry/virtualenvs/image-lyrics-hleqkuGI-py3.10/lib/python3.10/site-packages/transformers/generation/utils.py:1220: UserWarning: Using the model-agnostic default `max_length` (=20) to control the generation length. We recommend setting `max_new_tokens` to control the maximum length of the generation.\n",
      "  warnings.warn(\n",
      "/home/pauli/Git/image-lyrics/rag.py:85: LangChainDeprecationWarning: The class `HuggingFaceHub` was deprecated in LangChain 0.0.21 and will be removed in 1.0. An updated version of the class exists in the langchain-huggingface package and should be used instead. To use it run `pip install -U langchain-huggingface` and import as `from langchain_huggingface import HuggingFaceEndpoint`.\n",
      "  hf_llm = HuggingFaceHub(\n",
      "/home/pauli/Git/image-lyrics/rag.py:103: LangChainDeprecationWarning: The method `Chain.run` was deprecated in langchain 0.1.0 and will be removed in 1.0. Use invoke instead.\n",
      "  response = chain.run(prompt)\n"
     ]
    }
   ],
   "source": [
    "answer, retrieved_chunks, prompt, caps = predict(IMAGES, db, config)"
   ]
  },
  {
   "cell_type": "code",
   "execution_count": 7,
   "metadata": {},
   "outputs": [
    {
     "data": {
      "text/plain": [
       "\"Intro:\\nAs the sun sets behind the mountain range,\\nRed leaves dance in the gentle breeze,\\nA tranquil scene painted for all to see,\\nNature's beauty, ever so free. Verse 1:\\nAmidst the stillness, I find solace here,\\nMy heart beats slow, my mind is clear,\\nThis place where peace and calm abound,\\nIs where my spirit truly found. Chorus 1:\\nOh, the mountain in the distance,\\nWith its snowcapped peak so grand,\\nIt stands tall, proud and magnificent,\\nA sight that fills my soul with command. Chorus 2:\\nLeaves turn red against the sky,\\nAutumn whispers softly by,\\nWindmill turns, blades spinning round,\\nCity streets alive and loud. Bridge:\\nLife moves fast, but here I pause,\\nTo breathe in nature's sweetest draughts,\\nFor in these moments, I am whole,\\nConnected to the earth, my very soul. Chorus 3:\\nOh, the mountain in the distance,\\nWith its snowcapped peak so grand,\\nIt stands tall, proud and magnificent,\\nA sight that fills my soul with command. Outro:\\nAs evening falls, I bid farewell,\\nTo this peaceful haven, till I return once more,\\nMay my spirit always seek such grace,\\nIn life's journey, may I find my own space.\""
      ]
     },
     "execution_count": 7,
     "metadata": {},
     "output_type": "execute_result"
    }
   ],
   "source": [
    "answer"
   ]
  },
  {
   "cell_type": "code",
   "execution_count": 8,
   "metadata": {},
   "outputs": [
    {
     "data": {
      "text/plain": [
       "[\"I spend the day your way\\nCall it morning driving through the sound and\\nIn and out the valley\\n[Chorus 2]In and around the lake\\nMountains come out of the sky and they stand there\\nOne mile over we'll be there and we'll see you\",\n",
       " \"[Bridge]\\n(Hoo hoo hoo)\\n[Verse 2]Reach your hand down into the cooler\\nDon't drink it if the mountains aren't blueTry to keep it steady as you recline on your black inner tube\\n[Chorus]\\n[Bridge]\\n(Hoo hoo hoo)\\n(Hoo hoo hoo)\",\n",
       " \"[Verse 1]Oceans apart, day after day\\nAnd I slowly go insane\\nI hear your voice on the line\\nBut it doesn't stop the pain\\n[Pre-Chorus]If I see you next to never\\nHow can we say forever?\\n[Chorus]Wherever you go, whatever you do\",\n",
       " '[Verse 3 - U2]See the world in green and blueSee China right in front of youSee the canyons broken by cloudSee the tuna fleets clearing the sea outSee the Bedouin fires at nightSee the oil fields at first lightAnd see the bird with a leaf in her',\n",
       " \"[Verse 1]I got to take a little time\\nA little time to think things over\\nI better read between the lines\\nIn case I need it when I'm olderNow this mountain I must climb\\nFeels like a world upon my shoulders\\nI through the clouds I see love shine\",\n",
       " \"Mountains come out of the sky and they stand there\\nOne mile over we'll be there and we'll see you\\nTen true summers we'll be there and laughing tooTwenty four before my love you'll see\\nI'll be there with you\\n[Outro with Vocalizations]\",\n",
       " \"[Verse 1]\\nHey there DelilahWhat's it like in New York City?I'm a thousand miles awayBut girl, tonight you look so prettyYes, you doTimes Square can't shine as bright as you\",\n",
       " \"And she said[Chorus 1]Do you come from a land down underWhere women glow and men plunderCan't you hear, can't you hear the thunderYou better run, you better take cover\\n[Verse 2]\",\n",
       " \"[Intro]\\n(You can run, you can hide\\nBut you can't escape my love\\nYou can run, you can hide\\nBut you can't escape my love)\\n[Verse 1]\\nHere's how it goes, you and me, up and down\\nBut maybe this time we'll get it right, worth the fight\"]"
      ]
     },
     "execution_count": 8,
     "metadata": {},
     "output_type": "execute_result"
    }
   ],
   "source": [
    "retrieved_chunks"
   ]
  },
  {
   "cell_type": "code",
   "execution_count": 9,
   "metadata": {},
   "outputs": [
    {
     "data": {
      "text/plain": [
       "'Write a song lyrics about \"mountain in the distance with a lake and red leaves a close up of a windmill in a field of flowers city street with cars and pedestrians in the middle of the street woman sitting at a desk with a laptop and a notebook\" having intro, verse 1, chorus 1, verse 2, chorus 2, bridge, chorus 3, outro. Ignore the words intro, verse, chorus and outro.'"
      ]
     },
     "execution_count": 9,
     "metadata": {},
     "output_type": "execute_result"
    }
   ],
   "source": [
    "prompt"
   ]
  },
  {
   "cell_type": "code",
   "execution_count": 10,
   "metadata": {},
   "outputs": [
    {
     "data": {
      "text/plain": [
       "'mountain in the distance with a lake and red leaves a close up of a windmill in a field of flowers city street with cars and pedestrians in the middle of the street woman sitting at a desk with a laptop and a notebook'"
      ]
     },
     "execution_count": 10,
     "metadata": {},
     "output_type": "execute_result"
    }
   ],
   "source": [
    "caps"
   ]
  },
  {
   "cell_type": "code",
   "execution_count": 11,
   "metadata": {},
   "outputs": [
    {
     "name": "stderr",
     "output_type": "stream",
     "text": [
      "/home/pauli/.cache/pypoetry/virtualenvs/image-lyrics-hleqkuGI-py3.10/lib/python3.10/site-packages/transformers/tokenization_utils_base.py:1617: FutureWarning: `clean_up_tokenization_spaces` was not set. It will be set to `True` by default. This behavior will be deprecated in transformers v4.45, and will be then set to `False` by default. For more details check this issue: https://github.com/huggingface/transformers/issues/31884\n",
      "  warnings.warn(\n"
     ]
    }
   ],
   "source": [
    "from langchain.embeddings import HuggingFaceEmbeddings\n",
    "from numpy import dot\n",
    "from numpy.linalg import norm\n",
    "\n",
    "embeddings = HuggingFaceEmbeddings( \n",
    "    model_name='sentence-transformers/all-MiniLM-L6-v2',\n",
    "    model_kwargs={'device': 'cpu'} \n",
    ")\n"
   ]
  },
  {
   "cell_type": "code",
   "execution_count": 12,
   "metadata": {},
   "outputs": [],
   "source": [
    "from langchain_community.llms import HuggingFaceHub"
   ]
  },
  {
   "cell_type": "code",
   "execution_count": 13,
   "metadata": {},
   "outputs": [],
   "source": [
    "hf_llm = HuggingFaceHub(\n",
    "    repo_id=\"HuggingFaceH4/zephyr-7b-beta\",\n",
    "    task=\"text-generation\",\n",
    "    model_kwargs={\n",
    "        \"max_new_tokens\": 512,\n",
    "        \"top_k\": 30,\n",
    "        \"temperature\": 0.3,\n",
    "        \"repetition_penalty\": 1.2,\n",
    "    },\n",
    ")"
   ]
  },
  {
   "cell_type": "code",
   "execution_count": 14,
   "metadata": {},
   "outputs": [
    {
     "name": "stdout",
     "output_type": "stream",
     "text": [
      "Given the following context\n",
      "\n",
      "Intro:\n",
      "As the sun sets behind the mountain range,\n",
      "Red leaves dance in the gentle breeze,\n",
      "A tranquil scene painted for all to see,\n",
      "Nature's beauty, ever so free. Verse 1:\n",
      "Amidst the stillness, I find solace here,\n",
      "My heart beats slow, my mind is clear,\n",
      "This place where peace and calm abound,\n",
      "Is where my spirit truly found. Chorus 1:\n",
      "Oh, the mountain in the distance,\n",
      "With its snowcapped peak so grand,\n",
      "It stands tall, proud and magnificent,\n",
      "A sight that fills my soul with command. Chorus 2:\n",
      "Leaves turn red against the sky,\n",
      "Autumn whispers softly by,\n",
      "Windmill turns, blades spinning round,\n",
      "City streets alive and loud. Bridge:\n",
      "Life moves fast, but here I pause,\n",
      "To breathe in nature's sweetest draughts,\n",
      "For in these moments, I am whole,\n",
      "Connected to the earth, my very soul. Chorus 3:\n",
      "Oh, the mountain in the distance,\n",
      "With its snowcapped peak so grand,\n",
      "It stands tall, proud and magnificent,\n",
      "A sight that fills my soul with command. Outro:\n",
      "As evening falls, I bid farewell,\n",
      "To this peaceful haven, till I return once more,\n",
      "May my spirit always seek such grace,\n",
      "In life's journey, may I find my own space.\n",
      "\n",
      "Question: What inspired these lyrics?\n",
      "Helpful Answer: The lyrics were likely inspired by a serene natural setting, possibly near mountains or during autumn season when leaves change colors. The speaker finds solace and connection to their inner self amidst the quietness of nature, contrasting it with the hustle and bustle of city life. The repetition of choruses emphasizes the power and magnificence of nature while also highlighting the contrast between it and urban surroundings.\n"
     ]
    },
    {
     "name": "stderr",
     "output_type": "stream",
     "text": [
      "/tmp/ipykernel_60924/2721498240.py:1: LangChainDeprecationWarning: The method `BaseLLM.predict` was deprecated in langchain-core 0.1.7 and will be removed in 1.0. Use invoke instead.\n",
      "  print(hf_llm.predict(f\"Given the following context\\n\\n{answer}\\n\\nQuestion: What inspired these lyrics?\\nHelpful Answer:\"))\n"
     ]
    }
   ],
   "source": [
    "print(hf_llm.predict(f\"Given the following context\\n\\n{answer}\\n\\nQuestion: What inspired these lyrics?\\nHelpful Answer:\"))"
   ]
  },
  {
   "cell_type": "code",
   "execution_count": 15,
   "metadata": {},
   "outputs": [],
   "source": [
    "question_1 = hf_llm.predict(f\"Given the following context\\n\\n{answer}\\n\\nQuestion: What inspired these lyrics?\\nHelpful Answer:\")\n",
    "question_2 = hf_llm.predict(f\"Given the following context\\n\\n{answer}\\n\\nQuestion: What are its main themes?\\nHelpful Answer:\")\n",
    "question_3 = hf_llm.predict(f\"Given the following context\\n\\n{answer}\\n\\nQuestion: What does it evoke?\\nHelpful Answer:\")\n",
    "question_4 = hf_llm.predict(f\"Given the following context\\n\\n{answer}\\n\\nQuestion: What elements are present?\\nHelpful Answer:\")"
   ]
  },
  {
   "cell_type": "code",
   "execution_count": 16,
   "metadata": {},
   "outputs": [],
   "source": [
    "question_1, _ = postprocess_response(question_1)\n",
    "question_2, _ = postprocess_response(question_2)\n",
    "question_3, _ = postprocess_response(question_3)\n",
    "question_4, _ = postprocess_response(question_4)"
   ]
  },
  {
   "cell_type": "code",
   "execution_count": 17,
   "metadata": {},
   "outputs": [
    {
     "name": "stdout",
     "output_type": "stream",
     "text": [
      "The lyrics were likely inspired by a serene natural setting, possibly near mountains or during autumn season when leaves change colors. The speaker finds solace and connection to their inner self amidst the quietness of nature, contrasting it with the hustle and bustle of city life. The repetition of choruses emphasizes the power and magnificence of nature while also highlighting the contrast between it and urban surroundings.\n",
      "The poem explores the theme of finding inner peace and connecting with nature as a source of spiritual fulfillment. It contrasts the quiet serenity of the countryside with the hustle and bustle of city life, highlighting the importance of taking time out from the chaos to appreciate the natural world around us. Additionally, it touches upon the cyclical nature of seasons and the transience of life, reminding us to cherish every moment and find meaning in our experiences.\n",
      "The poem \"Mountain View\" by Sharon Eckert evokes a sense of serenity and connection to nature. It portrays the beauty of autumn scenery and highlights the contrast between the quietness of the natural world and the hustle and bustle of urban life. Through vivid imagery and sensory language, the poet invites us to experience the calming effect of being surrounded by the splendor of mountains and foliage. Overall, the piece encourages readers to appreciate the simplicity and harmony of nature as a source of inner peace and spiritual fulfillment.\n",
      "The poem contains imagery of a serene natural setting, including mountains, autumn foliage, windmills, and city sounds. It also explores themes of inner peace, connection to nature, and contrast between urban and rural environments.\n"
     ]
    }
   ],
   "source": [
    "print(question_1)\n",
    "print(question_2)\n",
    "print(question_3)\n",
    "print(question_4)"
   ]
  },
  {
   "cell_type": "code",
   "execution_count": 18,
   "metadata": {},
   "outputs": [],
   "source": [
    "caps_embedding = embeddings.embed_query(caps) \n",
    "question_1_embedding = embeddings.embed_query(question_1) \n",
    "question_2_embedding = embeddings.embed_query(question_2)\n",
    "question_3_embedding = embeddings.embed_query(question_3)\n",
    "question_4_embedding = embeddings.embed_query(question_4)"
   ]
  },
  {
   "cell_type": "code",
   "execution_count": 19,
   "metadata": {},
   "outputs": [],
   "source": [
    "from numpy import dot\n",
    "from numpy.linalg import norm"
   ]
  },
  {
   "cell_type": "code",
   "execution_count": 20,
   "metadata": {},
   "outputs": [
    {
     "name": "stdout",
     "output_type": "stream",
     "text": [
      "0.25229842465406344\n",
      "0.29391371975143415\n",
      "0.4439489250854143\n",
      "0.3931715100546174\n"
     ]
    }
   ],
   "source": [
    "cos_sim_1 = dot(caps_embedding, question_1_embedding)/(norm(caps_embedding)*norm(question_1_embedding))\n",
    "cos_sim_2 = dot(caps_embedding, question_2_embedding)/(norm(caps_embedding)*norm(question_2_embedding))\n",
    "cos_sim_3 = dot(caps_embedding, question_3_embedding)/(norm(caps_embedding)*norm(question_3_embedding))\n",
    "cos_sim_4 = dot(caps_embedding, question_4_embedding)/(norm(caps_embedding)*norm(question_4_embedding))\n",
    "print(cos_sim_1)\n",
    "print(cos_sim_2)\n",
    "print(cos_sim_3)\n",
    "print(cos_sim_4)"
   ]
  },
  {
   "cell_type": "code",
   "execution_count": 21,
   "metadata": {},
   "outputs": [
    {
     "data": {
      "text/plain": [
       "0.34583314488638234"
      ]
     },
     "execution_count": 21,
     "metadata": {},
     "output_type": "execute_result"
    }
   ],
   "source": [
    "answer_relevance = (cos_sim_1 + cos_sim_2 + cos_sim_3 + cos_sim_4) / 4\n",
    "answer_relevance"
   ]
  },
  {
   "cell_type": "code",
   "execution_count": 22,
   "metadata": {},
   "outputs": [],
   "source": [
    "from metrics import calculate_answer_relevance"
   ]
  },
  {
   "cell_type": "code",
   "execution_count": 23,
   "metadata": {},
   "outputs": [
    {
     "name": "stderr",
     "output_type": "stream",
     "text": [
      "/home/pauli/.cache/pypoetry/virtualenvs/image-lyrics-hleqkuGI-py3.10/lib/python3.10/site-packages/transformers/tokenization_utils_base.py:1617: FutureWarning: `clean_up_tokenization_spaces` was not set. It will be set to `True` by default. This behavior will be deprecated in transformers v4.45, and will be then set to `False` by default. For more details check this issue: https://github.com/huggingface/transformers/issues/31884\n",
      "  warnings.warn(\n"
     ]
    },
    {
     "data": {
      "text/plain": [
       "0.34583314488638234"
      ]
     },
     "execution_count": 23,
     "metadata": {},
     "output_type": "execute_result"
    }
   ],
   "source": [
    "calculate_answer_relevance(answer, caps)"
   ]
  }
 ],
 "metadata": {
  "kernelspec": {
   "display_name": "image-lyrics-hleqkuGI-py3.10",
   "language": "python",
   "name": "python3"
  },
  "language_info": {
   "codemirror_mode": {
    "name": "ipython",
    "version": 3
   },
   "file_extension": ".py",
   "mimetype": "text/x-python",
   "name": "python",
   "nbconvert_exporter": "python",
   "pygments_lexer": "ipython3",
   "version": "3.10.12"
  }
 },
 "nbformat": 4,
 "nbformat_minor": 2
}
