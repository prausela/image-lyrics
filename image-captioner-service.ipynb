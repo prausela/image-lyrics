{
 "cells": [
  {
   "cell_type": "code",
   "execution_count": 1,
   "metadata": {},
   "outputs": [
    {
     "name": "stderr",
     "output_type": "stream",
     "text": [
      "/home/pauli/.cache/pypoetry/virtualenvs/image-lyrics-hleqkuGI-py3.10/lib/python3.10/site-packages/tqdm/auto.py:21: TqdmWarning: IProgress not found. Please update jupyter and ipywidgets. See https://ipywidgets.readthedocs.io/en/stable/user_install.html\n",
      "  from .autonotebook import tqdm as notebook_tqdm\n",
      "/home/pauli/.cache/pypoetry/virtualenvs/image-lyrics-hleqkuGI-py3.10/lib/python3.10/site-packages/transformers/tokenization_utils_base.py:1617: FutureWarning: `clean_up_tokenization_spaces` was not set. It will be set to `True` by default. This behavior will be deprecated in transformers v4.45, and will be then set to `False` by default. For more details check this issue: https://github.com/huggingface/transformers/issues/31884\n",
      "  warnings.warn(\n",
      "/home/pauli/.cache/pypoetry/virtualenvs/image-lyrics-hleqkuGI-py3.10/lib/python3.10/site-packages/transformers/generation/utils.py:1220: UserWarning: Using the model-agnostic default `max_length` (=20) to control the generation length. We recommend setting `max_new_tokens` to control the maximum length of the generation.\n",
      "  warnings.warn(\n"
     ]
    },
    {
     "name": "stdout",
     "output_type": "stream",
     "text": [
      "a photography of a lake with a mountain in the background\n",
      "arafed mountain in the distance with a lake and red leaves\n"
     ]
    }
   ],
   "source": [
    "import os\n",
    "from PIL import Image\n",
    "import requests\n",
    "from transformers import BlipProcessor, BlipForConditionalGeneration\n",
    "\n",
    "def generate_caption(image_name):\n",
    "    processor = BlipProcessor.from_pretrained(\"Salesforce/blip-image-captioning-large\")\n",
    "    model = BlipForConditionalGeneration.from_pretrained(\"Salesforce/blip-image-captioning-large\")\n",
    "\n",
    "    # Path to the image in the images directory\n",
    "    img_path = os.path.join('docs/images', image_name)\n",
    "    raw_image = Image.open(img_path).convert('RGB')\n",
    "\n",
    "    # conditional image captioning\n",
    "    text = \"a photography of\"\n",
    "    inputs = processor(raw_image, text, return_tensors=\"pt\")\n",
    "\n",
    "    out = model.generate(**inputs)\n",
    "    print(processor.decode(out[0], skip_special_tokens=True))\n",
    "\n",
    "    # unconditional image captioning\n",
    "    inputs = processor(raw_image, return_tensors=\"pt\")\n",
    "\n",
    "    out = model.generate(**inputs)\n",
    "    return processor.decode(out[0], skip_special_tokens=True)\n",
    "\n",
    "cap = generate_caption('mt_fuji.jpg')\n",
    "print(cap)"
   ]
  }
 ],
 "metadata": {
  "kernelspec": {
   "display_name": "image-lyrics-hleqkuGI-py3.10",
   "language": "python",
   "name": "python3"
  },
  "language_info": {
   "codemirror_mode": {
    "name": "ipython",
    "version": 3
   },
   "file_extension": ".py",
   "mimetype": "text/x-python",
   "name": "python",
   "nbconvert_exporter": "python",
   "pygments_lexer": "ipython3",
   "version": "3.10.12"
  }
 },
 "nbformat": 4,
 "nbformat_minor": 2
}
