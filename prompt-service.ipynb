{
 "cells": [
  {
   "cell_type": "code",
   "execution_count": null,
   "metadata": {},
   "outputs": [],
   "source": [
    "print(\"Chatbot: Hola! Por favor inserte el nombre de la imagen que quieras usar para escribir una canción. Las imágenes se encuentran dentro de la carpeta /docs/\")\n",
    "\n",
    "#user_input = \"\"\n",
    "user_input = input(\"You: \")\n",
    "response = generate_response(db, f\"Write a song lyrics about \\\"{user_input}\\\" having intro, verse 1, chorus 1, verse 2, chorus 2, bridge, chorus 3, outro.\")\n",
    "print(f\"Chatbot: {(response)}\")"
   ]
  }
 ],
 "metadata": {
  "language_info": {
   "name": "python"
  }
 },
 "nbformat": 4,
 "nbformat_minor": 2
}
